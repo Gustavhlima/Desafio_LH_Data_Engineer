{
 "cells": [
  {
   "cell_type": "code",
   "execution_count": 1,
   "metadata": {},
   "outputs": [],
   "source": [
    "# Cell 1: Load extensions and import libraries\n",
    "%load_ext autoreload\n",
    "%autoreload 2\n",
    "\n",
    "import os\n",
    "from pyspark.dbutils import DBUtils # For Databricks utilities"
   ]
  },
  {
   "cell_type": "code",
   "execution_count": 3,
   "metadata": {},
   "outputs": [],
   "source": [
    "# Cell 2: Configure database connection using Databricks secrets\n",
    "secret_scope = \"gustavo_lima_adw\"\n",
    "\n",
    "# Fetch credentials and connection details from secrets\n",
    "mssql_host = dbutils.secrets.get(secret_scope, \"mssql_host\")\n",
    "mssql_port = dbutils.secrets.get(secret_scope, \"mssql_port\")\n",
    "mssql_database = dbutils.secrets.get(secret_scope, \"mssql_database\")\n",
    "username = dbutils.secrets.get(secret_scope, \"username\")\n",
    "password = dbutils.secrets.get(secret_scope, \"password\")\n",
    "schema_source = \"Sales\"\n",
    "\n",
    "# Define JDBC connection properties\n",
    "connection_properties = {\n",
    "    \"user\": username,\n",
    "    \"password\": password,\n",
    "    \"driver\": \"com.microsoft.sqlserver.jdbc.SQLServerDriver\",\n",
    "    \"encrypt\": 'true',\n",
    "    \"trustServerCertificate\": 'true'\n",
    "}\n",
    "\n",
    "# Build JDBC URL\n",
    "jdbc_url = f\"jdbc:sqlserver://{mssql_host}:{mssql_port};databaseName={mssql_database};encrypt=true;trustServerCertificate=true\""
   ]
  },
  {
   "cell_type": "code",
   "execution_count": null,
   "metadata": {},
   "outputs": [],
   "source": [
    "# Cell 3: Fetch list of tables from the source schema\n",
    "tables_df = spark.read.jdbc(\n",
    "    url=jdbc_url,\n",
    "    table=f\"(SELECT table_name FROM information_schema.tables WHERE table_schema = '{schema_source}' AND table_type = 'BASE TABLE') AS tables\",\n",
    "    properties=connection_properties\n",
    ")\n",
    "\n",
    "tables = [row.table_name for row in tables_df.collect()]\n",
    "print(f\"Tables found in schema '{schema_source}': {tables}\")"
   ]
  },
  {
   "cell_type": "code",
   "execution_count": null,
   "metadata": {},
   "outputs": [],
   "source": [
    "# Cell 4: Extract and save tables to RAW catalog\n",
    "import time\n",
    "\n",
    "def table_exists(table_name):\n",
    "    return spark.catalog.tableExists(f\"gustavo_lima_raw.schema.{table_name.lower()}\")\n",
    "\n",
    "def save_table_with_retry(df, target_table, retries=3, delay=5):\n",
    "    for attempt in range(retries):\n",
    "        try:\n",
    "            df.write.format(\"delta\") \\\n",
    "                .mode(\"overwrite\") \\\n",
    "                .saveAsTable(target_table)\n",
    "            print(f\"Table '{target_table}' saved to RAW catalog.\")\n",
    "            break\n",
    "        except Exception as e:\n",
    "            if attempt < retries - 1:\n",
    "                print(f\"Error saving table '{target_table}'. Retrying in {delay} seconds...\")\n",
    "                time.sleep(delay)\n",
    "            else:\n",
    "                print(f\"Failed to save table '{target_table}' after {retries} attempts.\")\n",
    "                raise e\n",
    "\n",
    "# Extract and save each table\n",
    "for table in tables:\n",
    "    print(f\"Extraindo {table}...\")  \n",
    "    df = spark.read.format(\"jdbc\") \\\n",
    "        .option(\"url\", jdbc_url) \\\n",
    "        .option(\"dbtable\", f\"{schema_source}.{table}\") \\\n",
    "        .option(\"user\", username) \\\n",
    "        .option(\"password\", password) \\\n",
    "        .load()    \n",
    "  \n",
    "    target_table = f\"gustavo_lima_raw.schema.{table.lower()}\"\n",
    "    if table_exists(table.lower()):\n",
    "        print(f\"A tabela '{target_table}' already exists. Overwriting...\")\n",
    "    \n",
    "    save_table_with_retry(df, target_table)\n"
   ]
  }
 ],
 "metadata": {
  "kernelspec": {
   "display_name": ".venv",
   "language": "python",
   "name": "python3"
  },
  "language_info": {
   "codemirror_mode": {
    "name": "ipython",
    "version": 3
   },
   "file_extension": ".py",
   "mimetype": "text/x-python",
   "name": "python",
   "nbconvert_exporter": "python",
   "pygments_lexer": "ipython3",
   "version": "3.10.12"
  }
 },
 "nbformat": 4,
 "nbformat_minor": 2
}
